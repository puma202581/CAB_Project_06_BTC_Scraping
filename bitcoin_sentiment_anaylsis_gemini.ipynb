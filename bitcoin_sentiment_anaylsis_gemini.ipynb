{
 "cells": [
  {
   "cell_type": "code",
   "execution_count": null,
   "id": "8f282242",
   "metadata": {},
   "outputs": [],
   "source": [
    "# At the command line, only need to run once to install the package via pip:\n",
    "# %pip install google-generativeai\n"
   ]
  },
  {
   "cell_type": "code",
   "execution_count": null,
   "id": "ce511511",
   "metadata": {},
   "outputs": [],
   "source": [
    "%pip install -q -U google-genai"
   ]
  },
  {
   "cell_type": "code",
   "execution_count": null,
   "id": "be8a7e17",
   "metadata": {},
   "outputs": [],
   "source": [
    "from google import genai\n",
    "\n",
    "client = genai.Client(api_key=\"GEMINI\")\n",
    "\n",
    "response = client.models.generate_content(\n",
    "    model=\"gemini-2.0-flash\", contents=\"Explain how AI works in a few words\"\n",
    ")\n",
    "print(response.text)"
   ]
  },
  {
   "cell_type": "code",
   "execution_count": null,
   "id": "b3e88d19",
   "metadata": {},
   "outputs": [],
   "source": [
    "from dotenv import load_dotenv\n",
    "import os\n",
    "\n",
    "load_dotenv()\n",
    "\n",
    "api_key = os.getenv(\"GEMINI\")\n",
    "\n",
    "print(api_key)"
   ]
  },
  {
   "cell_type": "code",
   "execution_count": null,
   "id": "6fd9329a",
   "metadata": {},
   "outputs": [],
   "source": [
    "import google.generativeai as genai\n",
    "\n",
    "genai.configure(api_key=\"GEMINI\")\n",
    "\n",
    "defaults = {\n",
    "  'model': 'models/text-bison-001',\n",
    "  'temperature': 0.5,\n",
    "  'candidate_count': 1,\n",
    "  'top_k': 40,\n",
    "  'top_p': 0.95,\n",
    "  'max_output_tokens': 1024,\n",
    "}\n",
    "prompt = \"\"\"Tell me whether the following sentence's sentiment is positive or negative or something in between.\n",
    "Sentence I would love to walk along the beach.\n",
    "Sentiment Somewhat positive\n",
    "Sentence I love my new record player\n",
    "Sentiment Positive\n",
    "Sentence I really hate it when my brother steals my things\n",
    "Sentiment Negative\n",
    "Sentence I really don't know how to feel about Pokemon\n",
    "Sentiment\"\"\"\n",
    "\n",
    "response = genai.GenerativeModel(defaults['model']).generate_content(prompt)\n",
    "print(response.result)"
   ]
  }
 ],
 "metadata": {
  "kernelspec": {
   "display_name": "EDA_Marc",
   "language": "python",
   "name": "python3"
  },
  "language_info": {
   "codemirror_mode": {
    "name": "ipython",
    "version": 3
   },
   "file_extension": ".py",
   "mimetype": "text/x-python",
   "name": "python",
   "nbconvert_exporter": "python",
   "pygments_lexer": "ipython3",
   "version": "3.9.21"
  }
 },
 "nbformat": 4,
 "nbformat_minor": 5
}
