{
 "cells": [
  {
   "cell_type": "code",
   "execution_count": 6,
   "id": "4fea4085",
   "metadata": {},
   "outputs": [
    {
     "data": {
      "text/plain": [
       "True"
      ]
     },
     "execution_count": 6,
     "metadata": {},
     "output_type": "execute_result"
    }
   ],
   "source": [
    "from dotenv import load_dotenv\n",
    "import requests\n",
    "import os\n",
    "\n",
    "load_dotenv()"
   ]
  },
  {
   "cell_type": "code",
   "execution_count": 7,
   "id": "87cea76d",
   "metadata": {},
   "outputs": [],
   "source": [
    "api_key = os.getenv(\"HF_PUMA_Token\")"
   ]
  },
  {
   "cell_type": "code",
   "execution_count": 8,
   "id": "05ea9988",
   "metadata": {},
   "outputs": [
    {
     "name": "stdout",
     "output_type": "stream",
     "text": [
      "<Response [200]>\n"
     ]
    }
   ],
   "source": [
    "endpoint = \"https://api-inference.huggingface.co/models/mrm8488/distilroberta-finetuned-financial-news-sentiment-analysis\"\n",
    "headers = {\n",
    "    \"Authorization\": f\"Bearer {api_key}\"\n",
    "}\n",
    "payload = { \"inputs\": [\"Legendary Trader John Bollinger Drops Crucial Bitcoin Price Update\", \n",
    "\"Michael Saylor Reacts to Bitcoin's Recovery With Sudden Tweet\", \n",
    "\"Biggest Bitcoin Bloodbath in History of Binance Just Happened\", \n",
    "\"Coinbase to Let You Earn Bitcoin with New Amex Card\", \n",
    "\"Ripple CEO Changes His Tune on Dogecoin, Shiba Inu (SHIB) Loses 92%, Strategy’s Bitcoin STRD Launches on Nasdaq: Crypto News Digest by U.Today\", \n",
    "\"Schiff Sounds 'Complete Fraud' Alarm for Saylor's $62 Billion Bitcoin Strategy\", \n",
    "\"Bitcoin Sees Abnormal 2,360% Liquidation Imbalance in Just One Hour\", \n",
    "\"Bitcoin (BTC) Price Prediction for June 12\", \n",
    "\"Michael Saylor Stuns Community With Bitcoin Validation Statement\", \n",
    "\"Satoshi Nakamoto's 16-Year Bitcoin Holdings Now Worth $118 Billion\", \n",
    "\"Bitcoin (BTC) to Crash to $90,000? Price Falls\", \n",
    "\"Bitcoin Bull Novogratz Says Strategy Copycats Are Getting 'Overhyped'\", \n",
    "\"BlackRock's Bitcoin ETF Breaks Into Top 20\", \n",
    "\"Solana (SOL) Golden Cross Secured? Shiba Inu (SHIB): $0.00002 Is Possible, Bitcoin's (BTC) New $120,000 ATH Incoming?\", \n",
    "\"$347,000,000 in Bitcoin (BTC) Moved in Two Hours\", \n",
    "\"Hedge Fund Legend Paul Tudor Jones Says Bitcoin Is Part of Ideal Portfolio\", \n",
    "\"'Rich Dad Poor Dad' Author Kiyosaki Issues Major Bitcoin and New Book Announcement\", \n",
    "\"155,000,000 DOGE Stun Robinhood, Shibarium Skyrockets 7,154% as Adoption Hits New Highs, Michael Saylor Explains Why Bitcoin Is Safe From Quantum Computers: Crypto News Digest by U.Today\", \n",
    "\"Binance Whales Unleash With Insane Bitcoin Accumulation\", \n",
    "\"Bitcoin Will Crash Global Bond Market: Max Keiser\", \n",
    "\"tBTC launches on Starknet: Expanding Bitcoin’s Role in Multi-Chain DeFi\", \n",
    "\"Breaking: Strategy’s Bitcoin STRD Launches on Nasdaq\", \n",
    "\"$620,873,331 Bitcoin Shifted in Minutes, Community Puzzled\", \n",
    "\"Bitcoin Would 'Moon' If US Nationalizes Strategy, Predicts Analyst Willy Woo\", \n",
    "\"Bitcoin (BTC) to $120,000? Key Reasons Why\", \n",
    "\"'Financial Gibberish': Top Short Seller Slams Bitcoin Advocate Saylor\", \n",
    "\"Saylor's Strategy Stock Crushes Bitcoin and Big Tech in Yearly Performance\", \n",
    "\"Bitcoin (BTC) Just Achieved This Tremendous Milestone\", \n",
    "\"Ripple Aims to Kickstart Japan's Web3 Surge, Major Shibarium Upgrade Brings Radical Change to SHIB Burns, Bitcoin Spikes 53,247% in Liquidation  Imbalance: Crypto News Digest by U.Today\", \n",
    "\"Peter Schiff Softens on Bitcoin: 'I've Learned My Lesson'\", \n",
    "\"Bitcoin (BTC) Price Prediction for June 10\", \n",
    "\"Michael Saylor Reveals Real Numbers Behind His Bitcoin Strategy\", \n",
    "\"Bitcoin to $27,000? Legendary Trader Peter Brandt Warns About 2022 Disaster Repeat\", \n",
    "\"Bitcoin Tops Google Once Again\", \n",
    "\"Is Bitcoin Safe From Quantum Computers? Michael Saylor Shares Bullish Take\", \n",
    "\"Dogecoin Cofounder Breaks Silence on Bitcoin Price Surge: Details\", \n",
    "\"Peter Schiff's Unexpected Reaction on Bitcoin Explosion\", \n",
    "\"Bitcoin Price Reclaims $110,000. Is ATH Next?\", \n",
    "\"Mystery Bitcoin Whale Ups the Ante on Hyperliquid\", \n",
    "\"Bitcoin (BTC) Rockets 240% in Short Liquidations in Just 4 Hours\", \n",
    "\"Breaking: Bitcoin Scammers Hack X Account of Paraguyan President\", \n",
    "\"Bitcoin Price to $130,000? PlanB Hints at Major Trend to Watch\", \n",
    "\"Ethereum Stuns With $300 Million Weekly Inflows, Bitcoin and XRP Left in Dust\", \n",
    "\"Bitcoin (BTC) Price Prediction for June 9\", \n",
    "\"This Fiat Currency Crashes Against Bitcoin, Max Keiser Praises BTC: Details\", \n",
    "\"Bitcoin Rockets 53,247% in Abnormal Liquidation Imbalance\", \n",
    "\"Bitcoin's $2,000 'God Candle' Defies Death Cross: What's Next for BTC?\", \n",
    "\"Breaking: Strategy Approaching Key Milestone with Most Recent Bitcoin Purchase\", \n",
    "\"$104,000 BTC in Sight? Bitcoin Braces for Short-Term Test This Week\", \n",
    "\"Breaking: $1 Billion in USDT Just Minted as Bitcoin Smashes Through $106,000\", \n",
    "\"BCC Mining Unlocks New Cloud Mining Opportunities\", \n",
    "\"FIFA Rivals Launches Worldwide, Bringing Non-Simulation Arcade Football Action to Mobile Devices\", \n",
    "\"Polemos Announces TGE And A Game-Changing Strategic Partnership With BUFF Accelerating Web3 Adoption\", \n",
    "\"GameFi New Frontiers, Stablecoin Trends and AI: Big Interview With Investing Veteran Stepan Sergeev\", \n",
    "\"AI Superintelligence, Singularity, ChatGPT and Token on Solana: Interview with Mari of AISM\", \n",
    "\"BYDFi Crypto Exchange Advances\"] }\n",
    "\n",
    "response = requests.post(endpoint, headers=headers, json=payload)\n",
    "if (response.status_code == 503):\n",
    "    headers[\"x-wait-for-model\"] = \"true\"\n",
    "    response = requests.post(endpoint, headers=headers, json=payload)\n",
    "\n",
    "print(response)"
   ]
  },
  {
   "cell_type": "code",
   "execution_count": null,
   "id": "7794bf8e",
   "metadata": {},
   "outputs": [],
   "source": []
  },
  {
   "cell_type": "code",
   "execution_count": 9,
   "id": "3212f240",
   "metadata": {},
   "outputs": [
    {
     "data": {
      "text/plain": [
       "[[{'label': 'neutral', 'score': 0.999688982963562},\n",
       "  {'label': 'neutral', 'score': 0.5224922299385071},\n",
       "  {'label': 'negative', 'score': 0.8067724108695984},\n",
       "  {'label': 'neutral', 'score': 0.9998615980148315},\n",
       "  {'label': 'negative', 'score': 0.959048330783844},\n",
       "  {'label': 'negative', 'score': 0.43802347779273987},\n",
       "  {'label': 'negative', 'score': 0.9937385320663452},\n",
       "  {'label': 'neutral', 'score': 0.9998437166213989},\n",
       "  {'label': 'neutral', 'score': 0.9998106360435486},\n",
       "  {'label': 'neutral', 'score': 0.999521017074585},\n",
       "  {'label': 'negative', 'score': 0.9978020787239075},\n",
       "  {'label': 'negative', 'score': 0.9808865189552307},\n",
       "  {'label': 'positive', 'score': 0.8901479840278625},\n",
       "  {'label': 'neutral', 'score': 0.999268114566803},\n",
       "  {'label': 'neutral', 'score': 0.9998763799667358},\n",
       "  {'label': 'neutral', 'score': 0.9998476505279541},\n",
       "  {'label': 'neutral', 'score': 0.9998691082000732},\n",
       "  {'label': 'positive', 'score': 0.9991783499717712},\n",
       "  {'label': 'neutral', 'score': 0.9729539752006531},\n",
       "  {'label': 'negative', 'score': 0.9855054020881653},\n",
       "  {'label': 'neutral', 'score': 0.9960618615150452},\n",
       "  {'label': 'neutral', 'score': 0.9998763799667358},\n",
       "  {'label': 'positive', 'score': 0.9471932053565979},\n",
       "  {'label': 'neutral', 'score': 0.9992128610610962},\n",
       "  {'label': 'neutral', 'score': 0.9998458623886108},\n",
       "  {'label': 'negative', 'score': 0.856224000453949},\n",
       "  {'label': 'positive', 'score': 0.9987248778343201},\n",
       "  {'label': 'positive', 'score': 0.9993950128555298},\n",
       "  {'label': 'positive', 'score': 0.9993554949760437},\n",
       "  {'label': 'neutral', 'score': 0.9378130435943604},\n",
       "  {'label': 'neutral', 'score': 0.9998395442962646},\n",
       "  {'label': 'neutral', 'score': 0.999803364276886},\n",
       "  {'label': 'negative', 'score': 0.9231610894203186},\n",
       "  {'label': 'neutral', 'score': 0.7485978603363037},\n",
       "  {'label': 'negative', 'score': 0.5589761137962341},\n",
       "  {'label': 'neutral', 'score': 0.6307047009468079},\n",
       "  {'label': 'neutral', 'score': 0.9985082745552063},\n",
       "  {'label': 'neutral', 'score': 0.842848002910614},\n",
       "  {'label': 'neutral', 'score': 0.9998410940170288},\n",
       "  {'label': 'negative', 'score': 0.9877780079841614},\n",
       "  {'label': 'negative', 'score': 0.697422444820404},\n",
       "  {'label': 'neutral', 'score': 0.9936861395835876},\n",
       "  {'label': 'neutral', 'score': 0.9997109770774841},\n",
       "  {'label': 'neutral', 'score': 0.9998431205749512},\n",
       "  {'label': 'negative', 'score': 0.6379627585411072},\n",
       "  {'label': 'negative', 'score': 0.9916845560073853},\n",
       "  {'label': 'neutral', 'score': 0.99888676404953},\n",
       "  {'label': 'positive', 'score': 0.994976818561554},\n",
       "  {'label': 'neutral', 'score': 0.9998194575309753},\n",
       "  {'label': 'neutral', 'score': 0.9980878233909607},\n",
       "  {'label': 'positive', 'score': 0.9841575026512146},\n",
       "  {'label': 'neutral', 'score': 0.9541130661964417},\n",
       "  {'label': 'positive', 'score': 0.9994000196456909},\n",
       "  {'label': 'neutral', 'score': 0.999708354473114},\n",
       "  {'label': 'neutral', 'score': 0.9998847246170044},\n",
       "  {'label': 'neutral', 'score': 0.9997363686561584}]]"
      ]
     },
     "execution_count": 9,
     "metadata": {},
     "output_type": "execute_result"
    }
   ],
   "source": [
    "response.json()"
   ]
  }
 ],
 "metadata": {
  "kernelspec": {
   "display_name": "EDA_Marc",
   "language": "python",
   "name": "python3"
  },
  "language_info": {
   "codemirror_mode": {
    "name": "ipython",
    "version": 3
   },
   "file_extension": ".py",
   "mimetype": "text/x-python",
   "name": "python",
   "nbconvert_exporter": "python",
   "pygments_lexer": "ipython3",
   "version": "3.9.21"
  }
 },
 "nbformat": 4,
 "nbformat_minor": 5
}
