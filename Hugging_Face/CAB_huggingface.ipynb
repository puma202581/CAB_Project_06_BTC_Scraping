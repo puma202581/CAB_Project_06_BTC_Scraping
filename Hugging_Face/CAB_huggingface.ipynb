{
 "cells": [
  {
   "cell_type": "code",
   "execution_count": 1,
   "id": "4fea4085",
   "metadata": {},
   "outputs": [
    {
     "data": {
      "text/plain": [
       "True"
      ]
     },
     "execution_count": 1,
     "metadata": {},
     "output_type": "execute_result"
    }
   ],
   "source": [
    "from dotenv import load_dotenv\n",
    "import requests\n",
    "import os\n",
    "\n",
    "load_dotenv()"
   ]
  },
  {
   "cell_type": "code",
   "execution_count": 2,
   "id": "87cea76d",
   "metadata": {},
   "outputs": [],
   "source": [
    "api_key = os.getenv(\"HF_PUMA_Token\")"
   ]
  },
  {
   "cell_type": "code",
   "execution_count": 3,
   "id": "05ea9988",
   "metadata": {},
   "outputs": [
    {
     "ename": "SyntaxError",
     "evalue": "invalid syntax (426531870.py, line 4)",
     "output_type": "error",
     "traceback": [
      "\u001b[1;36m  Cell \u001b[1;32mIn[3], line 4\u001b[1;36m\u001b[0m\n\u001b[1;33m    }{ \"inputs\": [\"Saylor's Strategy Stock Crushes Bitcoin and Big Tech in Yearly Performance\", \"Bitcoin (BTC) Just Achieved This Tremendous Milestone \"] }\u001b[0m\n\u001b[1;37m     ^\u001b[0m\n\u001b[1;31mSyntaxError\u001b[0m\u001b[1;31m:\u001b[0m invalid syntax\n"
     ]
    }
   ],
   "source": [
    "endpoint = \"https://api-inference.huggingface.co/models/mrm8488/distilroberta-finetuned-financial-news-sentiment-analysis\"\n",
    "headers = {\n",
    "    \"Authorization\": f\"Bearer {api_key}\"\n",
    "}{ \"inputs\": [\"Saylor's Strategy Stock Crushes Bitcoin and Big Tech in Yearly Performance\", \"Bitcoin (BTC) Just Achieved This Tremendous Milestone \"] }\n",
    "payload = \n",
    "\n",
    "response = requests.post(endpoint, headers=headers, json=payload)\n",
    "if (response.status_code == 503):\n",
    "    headers[\"x-wait-for-model\"] = \"true\"\n",
    "    response = requests.post(endpoint, headers=headers, json=payload)\n",
    "\n",
    "print(response)"
   ]
  },
  {
   "cell_type": "code",
   "execution_count": 9,
   "id": "3212f240",
   "metadata": {},
   "outputs": [
    {
     "data": {
      "text/plain": [
       "[[{'label': 'positive', 'score': 0.9987248778343201},\n",
       "  {'label': 'positive', 'score': 0.9993367791175842}]]"
      ]
     },
     "execution_count": 9,
     "metadata": {},
     "output_type": "execute_result"
    }
   ],
   "source": [
    "response.json()"
   ]
  }
 ],
 "metadata": {
  "kernelspec": {
   "display_name": "EDA_Marc",
   "language": "python",
   "name": "python3"
  },
  "language_info": {
   "codemirror_mode": {
    "name": "ipython",
    "version": 3
   },
   "file_extension": ".py",
   "mimetype": "text/x-python",
   "name": "python",
   "nbconvert_exporter": "python",
   "pygments_lexer": "ipython3",
   "version": "3.9.21"
  }
 },
 "nbformat": 4,
 "nbformat_minor": 5
}
